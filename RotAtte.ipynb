{
 "cells": [
  {
   "cell_type": "code",
   "execution_count": 1,
   "metadata": {},
   "outputs": [],
   "source": [
    "%load_ext autoreload\n",
    "%autoreload 2"
   ]
  },
  {
   "cell_type": "code",
   "execution_count": 2,
   "metadata": {},
   "outputs": [],
   "source": [
    "import openke\n",
    "from openke.config import Trainer, Tester\n",
    "from openke.module.loss import SigmoidLoss\n",
    "from openke.module.strategy import NegativeSampling\n",
    "from openke.data import TrainDataLoader, TestDataLoader\n",
    "\n",
    "from openke_model import RotAtte"
   ]
  },
  {
   "cell_type": "code",
   "execution_count": 3,
   "metadata": {},
   "outputs": [],
   "source": [
    "import torch\n",
    "import numpy as np"
   ]
  },
  {
   "cell_type": "code",
   "execution_count": 4,
   "metadata": {},
   "outputs": [],
   "source": [
    "negative_rate = 10"
   ]
  },
  {
   "cell_type": "code",
   "execution_count": 5,
   "metadata": {},
   "outputs": [],
   "source": [
    "train_dataloader = TrainDataLoader(\n",
    "\tin_path = \"./benchmarks/FB15K237/\", \n",
    "\tbatch_size = 10000,\n",
    "\tthreads = 1,\n",
    "\tsampling_mode = \"cross\", \n",
    "\tbern_flag = 0, \n",
    "\tfilter_flag = 1, \n",
    "\tneg_ent = negative_rate,\n",
    "\tneg_rel = 0\n",
    ")\n",
    "\n",
    "facts = TrainDataLoader(\n",
    "\tin_path = \"./benchmarks/FB15K237/\", \n",
    "\tbatch_size = train_dataloader.get_triple_tot(),\n",
    "\tthreads = 1,\n",
    "\tsampling_mode = \"normal\", \n",
    "\tbern_flag = 0, \n",
    "\tfilter_flag = 1, \n",
    "\tneg_ent = 0,\n",
    "\tneg_rel = 0\n",
    ")\n",
    "\n",
    "h, t, r, _, _ = [f for f in facts][0].values()\n",
    "h = torch.Tensor(h).to(torch.long)\n",
    "t = torch.Tensor(t).to(torch.long)\n",
    "r = torch.Tensor(r).to(torch.long)\n",
    "\n",
    "facts = torch.stack((h, r, t)).cuda().t()"
   ]
  },
  {
   "cell_type": "code",
   "execution_count": 6,
   "metadata": {},
   "outputs": [],
   "source": [
    "test_dataloader = TestDataLoader(\"./benchmarks/FB15K237/\", \"link\")"
   ]
  },
  {
   "cell_type": "code",
   "execution_count": 7,
   "metadata": {},
   "outputs": [],
   "source": [
    "rotatte = RotAtte(\n",
    "    n_ent = train_dataloader.get_ent_tot(),\n",
    "    n_rel = train_dataloader.get_rel_tot(),\n",
    "    in_dim = 100, \n",
    "    out_dim = 100,\n",
    "    facts = facts,\n",
    "    negative_rate=negative_rate,\n",
    ")"
   ]
  },
  {
   "cell_type": "code",
   "execution_count": 8,
   "metadata": {},
   "outputs": [],
   "source": [
    "model = NegativeSampling(\n",
    "\tmodel = rotatte, \n",
    "\tloss = SigmoidLoss(adv_temperature = 2),\n",
    "\tbatch_size = train_dataloader.get_batch_size(), \n",
    "\tregul_rate = 0.0\n",
    ")"
   ]
  },
  {
   "cell_type": "code",
   "execution_count": 9,
   "metadata": {},
   "outputs": [],
   "source": [
    "trainer = Trainer(model = model, data_loader = train_dataloader, train_times = 100, alpha = 2e-5, use_gpu = True, opt_method = \"adam\")"
   ]
  },
  {
   "cell_type": "code",
   "execution_count": 10,
   "metadata": {},
   "outputs": [
    {
     "name": "stderr",
     "output_type": "stream",
     "text": [
      "\r",
      "  0%|          | 0/100 [00:00<?, ?it/s]"
     ]
    },
    {
     "name": "stdout",
     "output_type": "stream",
     "text": [
      "Finish initializing...\n"
     ]
    },
    {
     "name": "stderr",
     "output_type": "stream",
     "text": [
      "Epoch 99 | loss: 14.395894: 100%|██████████| 100/100 [10:46<00:00,  6.47s/it]"
     ]
    },
    {
     "name": "stdout",
     "output_type": "stream",
     "text": [
      "Saved embeddings\n"
     ]
    },
    {
     "name": "stderr",
     "output_type": "stream",
     "text": [
      "\n"
     ]
    }
   ],
   "source": [
    "trainer.run()\n",
    "rotatte.save_embeddings()\n",
    "# rotatte.save_checkpoint(\"rotatte.ckpt\")"
   ]
  },
  {
   "cell_type": "code",
   "execution_count": 11,
   "metadata": {},
   "outputs": [
    {
     "name": "stderr",
     "output_type": "stream",
     "text": [
      "100%|██████████| 20466/20466 [01:11<00:00, 284.84it/s]"
     ]
    },
    {
     "name": "stdout",
     "output_type": "stream",
     "text": [
      "0.22332161664962769\n"
     ]
    },
    {
     "name": "stderr",
     "output_type": "stream",
     "text": [
      "\n"
     ]
    }
   ],
   "source": [
    "# rotatte.load_checkpoint(\"rotatte.ckpt\")\n",
    "tester = Tester(model = rotatte, data_loader = test_dataloader, use_gpu = True)\n",
    "result = tester.run_link_prediction(type_constrain = False)"
   ]
  },
  {
   "cell_type": "code",
   "execution_count": 12,
   "metadata": {},
   "outputs": [
    {
     "data": {
      "text/plain": [
       "(0.1100882738828659,\n",
       " 778.037109375,\n",
       " 0.22332161664962769,\n",
       " 0.11592397093772888,\n",
       " 0.05699697136878967)"
      ]
     },
     "execution_count": 12,
     "metadata": {},
     "output_type": "execute_result"
    }
   ],
   "source": [
    "result"
   ]
  },
  {
   "cell_type": "code",
   "execution_count": null,
   "metadata": {},
   "outputs": [],
   "source": []
  }
 ],
 "metadata": {
  "kernelspec": {
   "display_name": "Python 3.8.2 64-bit",
   "language": "python",
   "name": "python38264bitfd15593b8a3e4c3785006aa4b538e96d"
  },
  "language_info": {
   "codemirror_mode": {
    "name": "ipython",
    "version": 3
   },
   "file_extension": ".py",
   "mimetype": "text/x-python",
   "name": "python",
   "nbconvert_exporter": "python",
   "pygments_lexer": "ipython3",
   "version": "3.8.2"
  }
 },
 "nbformat": 4,
 "nbformat_minor": 4
}
